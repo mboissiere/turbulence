{
 "cells": [
  {
   "cell_type": "markdown",
   "metadata": {},
   "source": [
    "Extraction des données : Profils tranverses de la vitesse axiale"
   ]
  },
  {
   "cell_type": "code",
   "execution_count": 3,
   "metadata": {},
   "outputs": [],
   "source": [
    "import pandas as pd\n",
    "import re\n",
    "import matplotlib.pyplot as plt"
   ]
  },
  {
   "cell_type": "code",
   "execution_count": 10,
   "metadata": {},
   "outputs": [
    {
     "name": "stdout",
     "output_type": "stream",
     "text": [
      "       x         y      u(y)\n",
      "0    0.0  0.000000  15.00000\n",
      "1    0.0  0.001245  15.00000\n",
      "2    0.0  0.002416  15.00000\n",
      "3    0.0  0.003517  15.00000\n",
      "4    0.0  0.004553  15.00000\n",
      "..   ...       ...       ...\n",
      "196  0.5  0.092784   4.60054\n",
      "197  0.5  0.094527   4.60070\n",
      "198  0.5  0.096310   4.60083\n",
      "199  0.5  0.098134   4.60092\n",
      "200  0.5  0.100000   4.60096\n",
      "\n",
      "[1210 rows x 3 columns]\n",
      "[0.0, 0.1, 0.2, 0.3, 0.4, 0.5]\n"
     ]
    }
   ],
   "source": [
    "def load_data(file_path):\n",
    "    dataframes = []\n",
    "    x_values = []  # List to store the x values\n",
    "    with open(file_path, 'r') as file:\n",
    "        lines = file.readlines()\n",
    "        x_value = None\n",
    "        data = []\n",
    "        for line in lines:\n",
    "            if 'xy/key/label' in line:\n",
    "                match = re.search('line-(.*)m', line)\n",
    "                if match is not None:\n",
    "                    x_value = float(match.group(1))\n",
    "                    x_values.append(x_value)  # Append the x value to the list\n",
    "            elif line.strip() == ')':\n",
    "                df = pd.DataFrame(data, columns=['x', 'y', 'u(y)'])\n",
    "                df = df.sort_values(by='y')\n",
    "                dataframes.append(df)\n",
    "                data = []\n",
    "            elif '\\t' in line:\n",
    "                y, u_y = map(float, line.split('\\t'))\n",
    "                data.append([x_value, y, u_y])\n",
    "    # Concatenate all dataframes into one\n",
    "    final_df = pd.concat(dataframes)\n",
    "    return final_df, x_values  # Return the dataframe and the list of x values\n",
    "\n",
    "file_path = 'data/ProfilsTransverseVitesseAxiale'\n",
    "data, x_values = load_data(file_path)\n",
    "print(data)\n",
    "print(x_values)"
   ]
  },
  {
   "cell_type": "markdown",
   "metadata": {},
   "source": [
    "On cherche à calculer $\\delta(x)$ l'épaisseur de la couche de cisaillement.\n",
    "\n",
    "La couche de cisaillement est ici définie comme la zone où $\\overline{u}$ varie de $U_0 + 0,1 \\Delta U$ à $U_0 + 0,9 \\Delta U$ où $\\Delta U = U_1 - U_0$."
   ]
  },
  {
   "cell_type": "code",
   "execution_count": null,
   "metadata": {},
   "outputs": [],
   "source": [
    "U_0 = 5\n",
    "U_1 = 15"
   ]
  },
  {
   "cell_type": "code",
   "execution_count": 12,
   "metadata": {},
   "outputs": [
    {
     "name": "stdout",
     "output_type": "stream",
     "text": [
      "Shear layer thickness at x = 0.0: 0.0\n",
      "Shear layer thickness at x = 0.1: 0.007730499999999998\n",
      "Shear layer thickness at x = 0.2: 0.014853499999999999\n",
      "Shear layer thickness at x = 0.3: 0.0223533\n",
      "Shear layer thickness at x = 0.4: 0.02944563\n",
      "Shear layer thickness at x = 0.5: 0.037416290000000005\n"
     ]
    }
   ],
   "source": [
    "def shear_layer_thickness(df, x, _U_0 = U_0, _U_1 = U_1):\n",
    "    # Filter dataframe for given x\n",
    "    df_x = df[df['x'] == x]\n",
    "    \n",
    "    # Calculate delta_U\n",
    "    #U_0 = df_x['u(y)'].min()\n",
    "    #U_1 = df_x['u(y)'].max()\n",
    "    delta_U = _U_1 - _U_0\n",
    "    \n",
    "    # Filter dataframe for u(y) values in shear layer\n",
    "    df_shear = df_x[(df_x['u(y)'] >= _U_0 + 0.1*delta_U) & (df_x['u(y)'] <= _U_0 + 0.9*delta_U)]\n",
    "    # Calculate and return shear layer thickness\n",
    "    thickness = df_shear['y'].max() - df_shear['y'].min()\n",
    "    return thickness\n",
    "\n",
    "# Test the function\n",
    "for x in x_values:\n",
    "    thickness = shear_layer_thickness(data, x)\n",
    "    print(f\"Shear layer thickness at x = {x}: {thickness}\")\n",
    "\n",
    "\n"
   ]
  },
  {
   "cell_type": "markdown",
   "metadata": {},
   "source": [
    "De même on va calculer $y^*$, qui à un $x$ donné est l'ordonnée $y$ telle que $\\overline{u}(y^*) = \\dfrac{U_0 + U_1}{2}$"
   ]
  },
  {
   "cell_type": "code",
   "execution_count": 14,
   "metadata": {},
   "outputs": [
    {
     "name": "stdout",
     "output_type": "stream",
     "text": [
      "y_star at x=0.0: 0.02\n",
      "y_star at x=0.1: 0.0211001\n",
      "y_star at x=0.2: 0.0217576\n",
      "y_star at x=0.3: 0.0250053\n",
      "y_star at x=0.4: 0.0220731\n",
      "y_star at x=0.5: 0.0215589\n"
     ]
    }
   ],
   "source": [
    "def compute_y_star(df, x, _U_0 = U_0, _U_1 = U_1):\n",
    "    # Filter dataframe for given x\n",
    "    df_x = df[df['x'] == x]\n",
    "    \n",
    "    # Calculate the midpoint of U_0 and U_1\n",
    "    U_mid = (_U_0 + _U_1) / 2\n",
    "    \n",
    "    # Find the y value where U(y) is closest to U_mid\n",
    "    y_star = df_x.iloc[(df_x['u(y)'] - U_mid).abs().idxmin()]['y']\n",
    "    \n",
    "    return y_star\n",
    "\n",
    "# Test the function\n",
    "for x in x_values:\n",
    "    y_star = compute_y_star(data, x)\n",
    "    print(f\"y_star at x={x}: {y_star}\")"
   ]
  },
  {
   "cell_type": "markdown",
   "metadata": {},
   "source": [
    "Maintenant on peut adimensionnaliser les profils, avec :\n",
    "- l'abscisse $\\dfrac{y-y^*}{\\delta}$\n",
    "\n",
    "- l'ordonnée $\\dfrac{\\overline{u} - U_0}{U_1 - U_0}$"
   ]
  },
  {
   "cell_type": "code",
   "execution_count": null,
   "metadata": {},
   "outputs": [],
   "source": []
  }
 ],
 "metadata": {
  "kernelspec": {
   "display_name": "base",
   "language": "python",
   "name": "python3"
  },
  "language_info": {
   "codemirror_mode": {
    "name": "ipython",
    "version": 3
   },
   "file_extension": ".py",
   "mimetype": "text/x-python",
   "name": "python",
   "nbconvert_exporter": "python",
   "pygments_lexer": "ipython3",
   "version": "3.8.3"
  }
 },
 "nbformat": 4,
 "nbformat_minor": 2
}
